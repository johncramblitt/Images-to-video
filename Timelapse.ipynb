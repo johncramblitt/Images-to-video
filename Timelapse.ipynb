{
 "cells": [
  {
   "cell_type": "markdown",
   "id": "fccd963c-3b33-4fa2-ad8f-a269707e3f70",
   "metadata": {},
   "source": [
    "# Convert a batch of photos into a timelapse video"
   ]
  },
  {
   "cell_type": "code",
   "execution_count": 1,
   "id": "b428399d-9ee8-4d6f-8d47-c393dd294a10",
   "metadata": {},
   "outputs": [],
   "source": [
    "import os\n",
    "import cv2 \n",
    "from PIL import Image "
   ]
  },
  {
   "cell_type": "markdown",
   "id": "38e3837d-27bc-4f89-959d-aa3dda81747c",
   "metadata": {},
   "source": [
    "#### Set the path to the file location where the images are located."
   ]
  },
  {
   "cell_type": "code",
   "execution_count": 4,
   "id": "40d171a0-249c-4765-9e45-0948d10ea5be",
   "metadata": {},
   "outputs": [],
   "source": [
    "path='your_filename'\n",
    "os.chdir(path)"
   ]
  },
  {
   "cell_type": "markdown",
   "id": "24bc21e3-a243-4a0e-afa6-d1b7cc5561bc",
   "metadata": {},
   "source": [
    "#### Generate Video\n",
    "\n",
    "The following function generates a video from image files ending in .jpg, .jpeg, or png. \n",
    "\n",
    "* In the second and third lines of code, change the 'filename' to the same location as used above, and change 'your_videoname' to your preferred video name. \n",
    "\n",
    "* You can adjuist the video's frames per second by changing the second integer in the following line:\n",
    "                                        \n",
    "```python                              \n",
    " video = cv2.VideoWriter(video_name, 0, 20, (width, height)) \n",
    "```\n",
    "\n",
    "The video will be generated in the same location as the specified file containing the images."
   ]
  },
  {
   "cell_type": "code",
   "execution_count": null,
   "id": "c47918f1-5140-42ac-a73f-5fc516d195ae",
   "metadata": {},
   "outputs": [],
   "source": [
    "def generate_video():\n",
    "    image_folder = 'your_filename'\n",
    "    video_name = 'your_videoname.avi'  \n",
    "      \n",
    "    images = [img for img in os.listdir(image_folder)\n",
    "              if img.endswith(\".jpg\") or\n",
    "                 img.endswith(\".jpeg\") or\n",
    "                 img.endswith(\"png\")]\n",
    "       \n",
    "    frame = cv2.imread(os.path.join(image_folder, images[0]))\n",
    "  \n",
    "    height, width, layers = frame.shape  \n",
    "    \n",
    "    #change fps in the second integer value here\n",
    "    video = cv2.VideoWriter(video_name, 0, 20, (width, height)) \n",
    "  \n",
    "    for image in images: \n",
    "        video.write(cv2.imread(os.path.join(image_folder, image))) \n",
    "      \n",
    "    cv2.destroyAllWindows() \n",
    "    video.release()  \n",
    "  \n",
    "  \n",
    "generate_video()\n"
   ]
  }
 ],
 "metadata": {
  "kernelspec": {
   "display_name": "Python 3 (ipykernel)",
   "language": "python",
   "name": "python3"
  },
  "language_info": {
   "codemirror_mode": {
    "name": "ipython",
    "version": 3
   },
   "file_extension": ".py",
   "mimetype": "text/x-python",
   "name": "python",
   "nbconvert_exporter": "python",
   "pygments_lexer": "ipython3",
   "version": "3.9.16"
  }
 },
 "nbformat": 4,
 "nbformat_minor": 5
}
