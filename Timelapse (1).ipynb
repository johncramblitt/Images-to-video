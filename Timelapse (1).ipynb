{
 "cells": [
  {
   "cell_type": "code",
   "execution_count": 1,
   "id": "b428399d-9ee8-4d6f-8d47-c393dd294a10",
   "metadata": {},
   "outputs": [],
   "source": [
    "import os\n",
    "import cv2 \n",
    "from PIL import Image "
   ]
  },
  {
   "cell_type": "code",
   "execution_count": 4,
   "id": "40d171a0-249c-4765-9e45-0948d10ea5be",
   "metadata": {},
   "outputs": [],
   "source": [
    "#set path to work in the file where the images are located\n",
    "path='filename'\n",
    "os.chdir(path)"
   ]
  },
  {
   "cell_type": "code",
   "execution_count": null,
   "id": "c47918f1-5140-42ac-a73f-5fc516d195ae",
   "metadata": {},
   "outputs": [],
   "source": [
    "#Create the video, make sure to add the same file path as above where needed\n",
    "def generate_video():\n",
    "    image_folder = 'filename' # make sure to use your folder\n",
    "    video_name = 'videoname.avi'\n",
    "    os.chdir(\"filename\")\n",
    "      \n",
    "    images = [img for img in os.listdir(image_folder)\n",
    "              if img.endswith(\".jpg\") or\n",
    "                 img.endswith(\".jpeg\") or\n",
    "                 img.endswith(\"png\")]\n",
    "     \n",
    "    # Array images should only consider\n",
    "    # the image files ignoring others if any\n",
    "  \n",
    "    frame = cv2.imread(os.path.join(image_folder, images[0]))\n",
    "  \n",
    "    # setting the frame width, height width\n",
    "    # the width, height of first image\n",
    "    height, width, layers = frame.shape  \n",
    "    \n",
    "    #change fps in the second integer value here\n",
    "    video = cv2.VideoWriter(video_name, 0, 20, (width, height)) \n",
    "  \n",
    "    # Appending the images to the video one by one\n",
    "    for image in images: \n",
    "        video.write(cv2.imread(os.path.join(image_folder, image))) \n",
    "      \n",
    "    # Deallocating memories taken for window creation\n",
    "    cv2.destroyAllWindows() \n",
    "    video.release()  # releasing the video generated\n",
    "  \n",
    "  \n",
    "# Calling the generate_video function\n",
    "generate_video()\n",
    "#The video should be created in the same folder as the images"
   ]
  },
  {
   "cell_type": "code",
   "execution_count": null,
   "id": "013a9f83-aecb-4698-ae0e-e2cb338b86ba",
   "metadata": {},
   "outputs": [],
   "source": []
  }
 ],
 "metadata": {
  "kernelspec": {
   "display_name": "Python 3 (ipykernel)",
   "language": "python",
   "name": "python3"
  },
  "language_info": {
   "codemirror_mode": {
    "name": "ipython",
    "version": 3
   },
   "file_extension": ".py",
   "mimetype": "text/x-python",
   "name": "python",
   "nbconvert_exporter": "python",
   "pygments_lexer": "ipython3",
   "version": "3.9.16"
  }
 },
 "nbformat": 4,
 "nbformat_minor": 5
}
